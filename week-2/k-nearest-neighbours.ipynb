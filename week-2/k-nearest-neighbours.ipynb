{
 "cells": [
  {
   "cell_type": "code",
   "execution_count": null,
   "outputs": [],
   "source": [],
   "metadata": {
    "collapsed": false,
    "pycharm": {
     "name": "#%%\n"
    }
   }
  },
  {
   "cell_type": "markdown",
   "source": [
    "![](k-nearest-neighbours.png)"
   ],
   "metadata": {
    "collapsed": false,
    "pycharm": {
     "name": "#%% md\n"
    }
   }
  },
  {
   "cell_type": "markdown",
   "source": [
    "# K-Nearest Neighbours\n",
    "![](1-k-nearest-neighbours.png)\n",
    "![](2-k-nearest-neighbours.png)\n",
    "\n",
    "#### Calculating similarity/distance in a multi-dimensional space\n",
    "For example: euclidian distance, but values have to be normalized\n",
    "![](3-k-nearest-neighbours.png)"
   ],
   "metadata": {
    "collapsed": false,
    "pycharm": {
     "name": "#%% md\n"
    }
   }
  },
  {
   "cell_type": "code",
   "execution_count": 3,
   "outputs": [],
   "source": [
    "import pandas"
   ],
   "metadata": {
    "collapsed": false,
    "pycharm": {
     "name": "#%%\n"
    }
   }
  },
  {
   "cell_type": "code",
   "execution_count": 10,
   "outputs": [
    {
     "data": {
      "text/plain": "       AF3       F7       F3      FC5       T7       P7       O1       O2  \\\n0  4329.23  4009.23  4289.23  4148.21  4350.26  4586.15  4096.92  4641.03   \n1  4324.62  4004.62  4293.85  4148.72  4342.05  4586.67  4097.44  4638.97   \n\n        P8       T8      FC6       F4       F8      AF4  eyeDetection  \n0  4222.05  4238.46  4211.28  4280.51  4635.90  4393.85             0  \n1  4210.77  4226.67  4207.69  4279.49  4632.82  4384.10             0  ",
      "text/html": "<div>\n<style scoped>\n    .dataframe tbody tr th:only-of-type {\n        vertical-align: middle;\n    }\n\n    .dataframe tbody tr th {\n        vertical-align: top;\n    }\n\n    .dataframe thead th {\n        text-align: right;\n    }\n</style>\n<table border=\"1\" class=\"dataframe\">\n  <thead>\n    <tr style=\"text-align: right;\">\n      <th></th>\n      <th>AF3</th>\n      <th>F7</th>\n      <th>F3</th>\n      <th>FC5</th>\n      <th>T7</th>\n      <th>P7</th>\n      <th>O1</th>\n      <th>O2</th>\n      <th>P8</th>\n      <th>T8</th>\n      <th>FC6</th>\n      <th>F4</th>\n      <th>F8</th>\n      <th>AF4</th>\n      <th>eyeDetection</th>\n    </tr>\n  </thead>\n  <tbody>\n    <tr>\n      <th>0</th>\n      <td>4329.23</td>\n      <td>4009.23</td>\n      <td>4289.23</td>\n      <td>4148.21</td>\n      <td>4350.26</td>\n      <td>4586.15</td>\n      <td>4096.92</td>\n      <td>4641.03</td>\n      <td>4222.05</td>\n      <td>4238.46</td>\n      <td>4211.28</td>\n      <td>4280.51</td>\n      <td>4635.90</td>\n      <td>4393.85</td>\n      <td>0</td>\n    </tr>\n    <tr>\n      <th>1</th>\n      <td>4324.62</td>\n      <td>4004.62</td>\n      <td>4293.85</td>\n      <td>4148.72</td>\n      <td>4342.05</td>\n      <td>4586.67</td>\n      <td>4097.44</td>\n      <td>4638.97</td>\n      <td>4210.77</td>\n      <td>4226.67</td>\n      <td>4207.69</td>\n      <td>4279.49</td>\n      <td>4632.82</td>\n      <td>4384.10</td>\n      <td>0</td>\n    </tr>\n  </tbody>\n</table>\n</div>"
     },
     "execution_count": 10,
     "metadata": {},
     "output_type": "execute_result"
    }
   ],
   "source": [
    "data = pandas.read_csv('../EEG_Eye_State_Classification.csv')\n",
    "data.head(2)"
   ],
   "metadata": {
    "collapsed": false,
    "pycharm": {
     "name": "#%%\n"
    }
   }
  },
  {
   "cell_type": "markdown",
   "source": [
    "# Classification accuracy\n",
    "![](4-k-nearest-neighbours.png)\n",
    "\n",
    "#### Jaccard Index (jaccard simillarity coeff  )\n",
    "![](5-k-nearest-neighbours.png)\n",
    "j(10,9) = 9/(10+10-9) = 0.81\n",
    "j(10,5) = 5/(10+10-5) = 0.33\n",
    "j(10,2) = 2/(10+10-2) = 0.11\n",
    "\n",
    "#### F1-score (Confusion matrix)\n",
    "![](6-k-nearest-neighbours.png)\n",
    "Horizontal rows -> real values, Vertical -> predicted\n",
    "Out of 15 ch1, model correctly predicted 6, and 9 misidentified as ch2\n",
    "Out of 25 ch2, model correctly predicted 24, and 1 misidentified as ch1\n",
    "\n"
   ],
   "metadata": {
    "collapsed": false,
    "pycharm": {
     "name": "#%% md\n"
    }
   }
  },
  {
   "cell_type": "markdown",
   "source": [
    "ch1 prd = 7, ch1 real = 15\n",
    "ch0 prd = 35, ch0 real = 25\n",
    "\n",
    "little ch1 were picked up, but ~all, classified as ch1 were ch1\n",
    "precision = probability of selected prediction to be true\n",
    "\n",
    "~all ch0 were picked up, but through ones, classified as ch0 were ch1\n",
    "recall = probability of item to be selected correctly  (rate of \"picking up\")\n",
    "\n",
    "Imagine we are classifying apples and oranges, so if all are predicted as O, then O_recall is high, but O_prcs is low, and A_recall is low\n",
    "\n",
    "$$ F1-score = 2*(prc*rec)/(prc+rec) $$\n",
    "\n",
    "(F1 responds to low values a little more than mean)"
   ],
   "metadata": {
    "collapsed": false,
    "pycharm": {
     "name": "#%% md\n"
    }
   }
  },
  {
   "cell_type": "markdown",
   "source": [
    "Calculated score:\n",
    "![](7-k-nearest-neighbours.png)"
   ],
   "metadata": {
    "collapsed": false,
    "pycharm": {
     "name": "#%% md\n"
    }
   }
  },
  {
   "cell_type": "markdown",
   "source": [
    "# Logarithmic loss\n",
    "Measures performance, where output is probability between 0 and 1\n",
    "![](9-k-nearest-neighbours.png)"
   ],
   "metadata": {
    "collapsed": false,
    "pycharm": {
     "name": "#%% md\n"
    }
   }
  },
  {
   "cell_type": "code",
   "execution_count": 14,
   "outputs": [
    {
     "data": {
      "text/plain": "2.0"
     },
     "execution_count": 14,
     "metadata": {},
     "output_type": "execute_result"
    }
   ],
   "source": [
    "import math\n",
    "\n",
    "math.log(4, 2)"
   ],
   "metadata": {
    "collapsed": false,
    "pycharm": {
     "name": "#%%\n"
    }
   }
  },
  {
   "cell_type": "code",
   "execution_count": 20,
   "outputs": [
    {
     "data": {
      "text/plain": "1.7954234350052463"
     },
     "execution_count": 20,
     "metadata": {},
     "output_type": "execute_result"
    }
   ],
   "source": [
    "math.log(100, 13)"
   ],
   "metadata": {
    "collapsed": false,
    "pycharm": {
     "name": "#%%\n"
    }
   }
  },
  {
   "cell_type": "code",
   "execution_count": 27,
   "outputs": [
    {
     "data": {
      "text/plain": "-0.4901430208033897"
     },
     "execution_count": 27,
     "metadata": {},
     "output_type": "execute_result"
    }
   ],
   "source": [
    "y = 1\n",
    "y_ = 0.13\n",
    "\n",
    "y * math.log(math.e, y_) + (1 - y) * math.log2(1 - y_)"
   ],
   "metadata": {
    "collapsed": false,
    "pycharm": {
     "name": "#%%\n"
    }
   }
  },
  {
   "cell_type": "markdown",
   "source": [],
   "metadata": {
    "collapsed": false,
    "pycharm": {
     "name": "#%% md\n"
    }
   }
  }
 ],
 "metadata": {
  "kernelspec": {
   "display_name": "Python 3",
   "language": "python",
   "name": "python3"
  },
  "language_info": {
   "codemirror_mode": {
    "name": "ipython",
    "version": 2
   },
   "file_extension": ".py",
   "mimetype": "text/x-python",
   "name": "python",
   "nbconvert_exporter": "python",
   "pygments_lexer": "ipython2",
   "version": "2.7.6"
  }
 },
 "nbformat": 4,
 "nbformat_minor": 0
}