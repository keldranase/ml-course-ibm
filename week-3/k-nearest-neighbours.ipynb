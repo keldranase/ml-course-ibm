{
 "cells": [
  {
   "cell_type": "markdown",
   "source": [
    "# Classification"
   ],
   "metadata": {
    "collapsed": false,
    "pycharm": {
     "name": "#%% md\n"
    }
   }
  },
  {
   "cell_type": "markdown",
   "source": [
    "## K-Nearest Neighbours\n",
    "![](k-nearest-neighbours/1-k-nearest-neighbours.png)\n",
    "![](k-nearest-neighbours/2-k-nearest-neighbours.png)\n",
    "\n",
    "#### Calculating similarity/distance in a multi-dimensional space\n",
    "For example: euclidian distance, but values have to be normalized\n",
    "![](k-nearest-neighbours/3-k-nearest-neighbours.png)"
   ],
   "metadata": {
    "collapsed": false,
    "pycharm": {
     "name": "#%% md\n"
    }
   }
  },
  {
   "cell_type": "markdown",
   "source": [
    "## Classification accuracy\n",
    "![](k-nearest-neighbours/4-k-nearest-neighbours.png)\n",
    "\n",
    "#### Jaccard Index (jaccard simillarity coeff  )\n",
    "![](k-nearest-neighbours/5-k-nearest-neighbours.png)\n",
    "j(10,9) = 9/(10+10-9) = 0.81\n",
    "j(10,5) = 5/(10+10-5) = 0.33\n",
    "j(10,2) = 2/(10+10-2) = 0.11\n",
    "\n",
    "#### F1-score (Confusion matrix)\n",
    "![](k-nearest-neighbours/6-k-nearest-neighbours.png)\n",
    "Horizontal rows -> real values, Vertical -> predicted\n",
    "Out of 15 ch1, model correctly predicted 6, and 9 misidentified as ch2\n",
    "Out of 25 ch2, model correctly predicted 24, and 1 misidentified as ch1"
   ],
   "metadata": {
    "collapsed": false,
    "pycharm": {
     "name": "#%% md\n"
    }
   }
  },
  {
   "cell_type": "markdown",
   "source": [
    "ch1 prd = 7, ch1 real = 15\n",
    "ch0 prd = 35, ch0 real = 25\n",
    "\n",
    "little ch1 were picked up, but ~all, classified as ch1 were ch1\n",
    "precision = probability of selected prediction to be true\n",
    "\n",
    "~all ch0 were picked up, but through ones, classified as ch0 were ch1\n",
    "recall = probability of item to be selected correctly  (rate of \"picking up\")\n",
    "\n",
    "Imagine we are classifying apples and oranges, so if all are predicted as O, then O_recall is high, but O_prcs is low, and A_recall is low\n",
    "\n",
    "$$ F1-score = 2*(prc*rec)/(prc+rec) $$\n",
    "\n",
    "(F1 responds to low values a little more than mean)"
   ],
   "metadata": {
    "collapsed": false,
    "pycharm": {
     "name": "#%% md\n"
    }
   }
  },
  {
   "cell_type": "markdown",
   "source": [
    "Calculated score:\n",
    "![](k-nearest-neighbours/7-k-nearest-neighbours.png)"
   ],
   "metadata": {
    "collapsed": false,
    "pycharm": {
     "name": "#%% md\n"
    }
   }
  },
  {
   "cell_type": "markdown",
   "source": [
    "## Logarithmic loss\n",
    "Measures performance, where output is probability between 0 and 1\n",
    "![](k-nearest-neighbours/9-k-nearest-neighbours.png)"
   ],
   "metadata": {
    "collapsed": false,
    "pycharm": {
     "name": "#%% md\n"
    }
   }
  },
  {
   "cell_type": "markdown",
   "source": [
    "# Practice\n",
    "\n",
    "It's important to choose __K__ value correctly\n",
    "![](k-nearest-neighbours/10-k-nearest-neighbours.png)"
   ],
   "metadata": {
    "collapsed": false,
    "pycharm": {
     "name": "#%% md\n"
    }
   }
  },
  {
   "cell_type": "code",
   "execution_count": 10,
   "outputs": [],
   "source": [
    "import numpy as np\n",
    "import matplotlib.pyplot as plt\n",
    "import pandas as pd\n",
    "import numpy as np\n",
    "from sklearn import preprocessing\n",
    "%matplotlib inline\n",
    "from sklearn.model_selection import train_test_split\n",
    "from sklearn import metrics"
   ],
   "metadata": {
    "collapsed": false,
    "pycharm": {
     "name": "#%%\n"
    }
   }
  },
  {
   "cell_type": "code",
   "execution_count": 12,
   "outputs": [
    {
     "data": {
      "text/plain": "       AF3       F7       F3      FC5       T7       P7       O1       O2  \\\n0  4329.23  4009.23  4289.23  4148.21  4350.26  4586.15  4096.92  4641.03   \n1  4324.62  4004.62  4293.85  4148.72  4342.05  4586.67  4097.44  4638.97   \n2  4327.69  4006.67  4295.38  4156.41  4336.92  4583.59  4096.92  4630.26   \n3  4328.72  4011.79  4296.41  4155.90  4343.59  4582.56  4097.44  4630.77   \n4  4326.15  4011.79  4292.31  4151.28  4347.69  4586.67  4095.90  4627.69   \n\n        P8       T8      FC6       F4       F8      AF4  eyeDetection  \n0  4222.05  4238.46  4211.28  4280.51  4635.90  4393.85             0  \n1  4210.77  4226.67  4207.69  4279.49  4632.82  4384.10             0  \n2  4207.69  4222.05  4206.67  4282.05  4628.72  4389.23             0  \n3  4217.44  4235.38  4210.77  4287.69  4632.31  4396.41             0  \n4  4210.77  4244.10  4212.82  4288.21  4632.82  4398.46             0  ",
      "text/html": "<div>\n<style scoped>\n    .dataframe tbody tr th:only-of-type {\n        vertical-align: middle;\n    }\n\n    .dataframe tbody tr th {\n        vertical-align: top;\n    }\n\n    .dataframe thead th {\n        text-align: right;\n    }\n</style>\n<table border=\"1\" class=\"dataframe\">\n  <thead>\n    <tr style=\"text-align: right;\">\n      <th></th>\n      <th>AF3</th>\n      <th>F7</th>\n      <th>F3</th>\n      <th>FC5</th>\n      <th>T7</th>\n      <th>P7</th>\n      <th>O1</th>\n      <th>O2</th>\n      <th>P8</th>\n      <th>T8</th>\n      <th>FC6</th>\n      <th>F4</th>\n      <th>F8</th>\n      <th>AF4</th>\n      <th>eyeDetection</th>\n    </tr>\n  </thead>\n  <tbody>\n    <tr>\n      <th>0</th>\n      <td>4329.23</td>\n      <td>4009.23</td>\n      <td>4289.23</td>\n      <td>4148.21</td>\n      <td>4350.26</td>\n      <td>4586.15</td>\n      <td>4096.92</td>\n      <td>4641.03</td>\n      <td>4222.05</td>\n      <td>4238.46</td>\n      <td>4211.28</td>\n      <td>4280.51</td>\n      <td>4635.90</td>\n      <td>4393.85</td>\n      <td>0</td>\n    </tr>\n    <tr>\n      <th>1</th>\n      <td>4324.62</td>\n      <td>4004.62</td>\n      <td>4293.85</td>\n      <td>4148.72</td>\n      <td>4342.05</td>\n      <td>4586.67</td>\n      <td>4097.44</td>\n      <td>4638.97</td>\n      <td>4210.77</td>\n      <td>4226.67</td>\n      <td>4207.69</td>\n      <td>4279.49</td>\n      <td>4632.82</td>\n      <td>4384.10</td>\n      <td>0</td>\n    </tr>\n    <tr>\n      <th>2</th>\n      <td>4327.69</td>\n      <td>4006.67</td>\n      <td>4295.38</td>\n      <td>4156.41</td>\n      <td>4336.92</td>\n      <td>4583.59</td>\n      <td>4096.92</td>\n      <td>4630.26</td>\n      <td>4207.69</td>\n      <td>4222.05</td>\n      <td>4206.67</td>\n      <td>4282.05</td>\n      <td>4628.72</td>\n      <td>4389.23</td>\n      <td>0</td>\n    </tr>\n    <tr>\n      <th>3</th>\n      <td>4328.72</td>\n      <td>4011.79</td>\n      <td>4296.41</td>\n      <td>4155.90</td>\n      <td>4343.59</td>\n      <td>4582.56</td>\n      <td>4097.44</td>\n      <td>4630.77</td>\n      <td>4217.44</td>\n      <td>4235.38</td>\n      <td>4210.77</td>\n      <td>4287.69</td>\n      <td>4632.31</td>\n      <td>4396.41</td>\n      <td>0</td>\n    </tr>\n    <tr>\n      <th>4</th>\n      <td>4326.15</td>\n      <td>4011.79</td>\n      <td>4292.31</td>\n      <td>4151.28</td>\n      <td>4347.69</td>\n      <td>4586.67</td>\n      <td>4095.90</td>\n      <td>4627.69</td>\n      <td>4210.77</td>\n      <td>4244.10</td>\n      <td>4212.82</td>\n      <td>4288.21</td>\n      <td>4632.82</td>\n      <td>4398.46</td>\n      <td>0</td>\n    </tr>\n  </tbody>\n</table>\n</div>"
     },
     "execution_count": 12,
     "metadata": {},
     "output_type": "execute_result"
    }
   ],
   "source": [
    "ds = pd.read_csv('k-nearest-neighbours/EEG_Eye_State_Classification.csv')\n",
    "# dataset['eyeDetection'].value_counts()\n",
    "ds.head()"
   ],
   "metadata": {
    "collapsed": false,
    "pycharm": {
     "name": "#%%\n"
    }
   }
  },
  {
   "cell_type": "code",
   "execution_count": null,
   "outputs": [],
   "source": [
    "ds.hist(column='P7', bins=50)"
   ],
   "metadata": {
    "collapsed": false,
    "pycharm": {
     "name": "#%%\n"
    }
   }
  },
  {
   "cell_type": "code",
   "execution_count": null,
   "outputs": [],
   "source": [
    "# for a in dataset.columns:\n",
    "#     dataset.hist(column=a)"
   ],
   "metadata": {
    "collapsed": false,
    "pycharm": {
     "name": "#%%\n"
    }
   }
  },
  {
   "cell_type": "code",
   "execution_count": null,
   "outputs": [],
   "source": [
    "x = ds[['AF3', 'F7', 'F3', 'FC5', 'T7', 'P7', 'O1', 'O2', 'P8', 'T8', 'FC6',\n",
    "     'F4', 'F8', 'AF4', 'eyeDetection']]\n",
    "print(\"before \\n\" + str(x[:3]))\n",
    "# x = preprocessing.StandardScaler().fit(x).transform(x.astype(float))\n",
    "# print(\"after \\n\" + str(x[:3]))\n",
    "y = ds['eyeDetection']"
   ],
   "metadata": {
    "collapsed": false,
    "pycharm": {
     "name": "#%%\n"
    }
   }
  },
  {
   "cell_type": "code",
   "execution_count": null,
   "outputs": [],
   "source": [
    "x_train, x_test, y_train, y_test = train_test_split( x, y, test_size=0.2, random_state=4)\n",
    "print ('Train set:', x_train.shape,  y_train.shape)\n",
    "print ('Test set:', x_test.shape,  y_test.shape)"
   ],
   "metadata": {
    "collapsed": false,
    "pycharm": {
     "name": "#%%\n"
    }
   }
  },
  {
   "cell_type": "code",
   "execution_count": null,
   "outputs": [],
   "source": [
    "import sklearn\n",
    "from sklearn.neighbors import KNeighborsClassifier\n",
    "from sklearn import metrics"
   ],
   "metadata": {
    "collapsed": false,
    "pycharm": {
     "name": "#%%\n"
    }
   }
  },
  {
   "cell_type": "code",
   "execution_count": null,
   "outputs": [],
   "source": [
    "def estimate(k):\n",
    "     model = KNeighborsClassifier(n_neighbors=k).fit(x_train,y_train)\n",
    "\n",
    "     y_est = model.predict(x_test)\n",
    "     y_est_train = model.predict(x_train)\n",
    "\n",
    "     return y_est, y_est_train"
   ],
   "metadata": {
    "collapsed": false,
    "pycharm": {
     "name": "#%%\n"
    }
   }
  },
  {
   "cell_type": "code",
   "execution_count": null,
   "outputs": [],
   "source": [
    "y_est, y_est_train = estimate(3)\n",
    "\n",
    "# print(\"Train set Accuracy: \", metrics.accuracy_score(y_train, y_est_train))\n",
    "# print(\"Test set Accuracy: \", metrics.accuracy_score(y_test, y_est), \"\\n\")\n",
    "#\n",
    "# print(\"Train set Precision: \", metrics.precision_score(y_train, y_est_train))\n",
    "# print(\"Test set Precision: \", metrics.precision_score(y_test, y_est), \"\\n\")\n",
    "#\n",
    "# print(\"Train set Recall: \", metrics.recall_score(y_train, y_est_train))\n",
    "# print(\"Test set Recall: \", metrics.recall_score(y_test, y_est))"
   ],
   "metadata": {
    "collapsed": false,
    "pycharm": {
     "name": "#%%\n"
    }
   }
  },
  {
   "cell_type": "code",
   "execution_count": null,
   "outputs": [],
   "source": [],
   "metadata": {
    "collapsed": false,
    "pycharm": {
     "name": "#%%\n"
    }
   }
  }
 ],
 "metadata": {
  "kernelspec": {
   "display_name": "Python 3",
   "language": "python",
   "name": "python3"
  },
  "language_info": {
   "codemirror_mode": {
    "name": "ipython",
    "version": 2
   },
   "file_extension": ".py",
   "mimetype": "text/x-python",
   "name": "python",
   "nbconvert_exporter": "python",
   "pygments_lexer": "ipython2",
   "version": "2.7.6"
  }
 },
 "nbformat": 4,
 "nbformat_minor": 0
}