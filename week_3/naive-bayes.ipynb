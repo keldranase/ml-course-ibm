{
 "cells": [
  {
   "cell_type": "markdown",
   "source": [
    "# Naive Bayes\n",
    "Called as such, bc does not account for placement of features, in relation to each other (e.g. word order)\n",
    "\n",
    "### Multinomial Naive Bayes\n",
    "On the example of classifying mail like spam or normal:\n",
    "1. For each feature in each class the **likelihood** is calculated, dividing number of time feature occurred by amount of time all features have occurred in the class\n",
    "![](naive-bayes/naive-bayes.png)\n",
    "![](naive-bayes/1-naive-bayes.png)\n",
    "2. To find, to where does given email belong, probabilities calculated for both classes, by multiplying probability of each element (word in email) by **prior probability**, that is obtained by dividing number of occurrences for given class in training set by the amount of all elements in it:\n",
    "![](naive-bayes/2-naive-bayes.png)\n",
    "![](naive-bayes/3-naive-bayes.png)\n",
    "3. Probability of input belonging to each class can be found from obtained probabilities\n",
    "\n",
    "If feature has no occurrences in training set for given class, then its probability is 0, and probability of any input, containing it will be also 0\n",
    "To prevent this problem, 1 count could be added to each feature, making impossible for any probability to become 0\n",
    "1. ![](naive-bayes/4-naive-bayes.png)\n",
    "\n",
    "# Applications\n",
    "- Credit Scoring.\n",
    "- medical data classification.\n",
    "- real-time predictions because Naive Bayes Classifier is an eager learner.\n",
    "- ext classification such as Spam filtering and Sentiment analysis"
   ],
   "metadata": {
    "collapsed": false,
    "pycharm": {
     "name": "#%% md\n"
    }
   }
  }
 ],
 "metadata": {
  "kernelspec": {
   "display_name": "Python 3",
   "language": "python",
   "name": "python3"
  },
  "language_info": {
   "codemirror_mode": {
    "name": "ipython",
    "version": 2
   },
   "file_extension": ".py",
   "mimetype": "text/x-python",
   "name": "python",
   "nbconvert_exporter": "python",
   "pygments_lexer": "ipython2",
   "version": "2.7.6"
  }
 },
 "nbformat": 4,
 "nbformat_minor": 0
}