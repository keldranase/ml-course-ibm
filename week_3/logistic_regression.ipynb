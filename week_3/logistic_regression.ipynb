{
 "cells": [
  {
   "cell_type": "markdown",
   "source": [
    "# Logistic Regression\n",
    "\n",
    "Ligistic regression models probability, that given input belongs to given class\n",
    "\n",
    "It is possible to use linear regression for classification, by mapping categorical to numerical values, and using step function get result (e.g for 0 and 1, if result is < .5, then it's 0, and 1 otherwise)\n",
    "The downside is that 10 and 1000 are essentially the same for this model\n",
    "\n",
    "**Sigmoid function**\n",
    "It resembles step function, and instead of directly giving categorical value, gives probability, that object belongs to it\n",
    "![](logistic_regression.png)"
   ],
   "metadata": {
    "collapsed": false,
    "pycharm": {
     "name": "#%% md\n"
    }
   }
  },
  {
   "cell_type": "code",
   "execution_count": 16,
   "outputs": [],
   "source": [
    "import pandas as pd\n",
    "import pylab as pl\n",
    "import numpy as np\n",
    "import scipy.optimize as opt\n",
    "from sklearn import preprocessing\n",
    "%matplotlib inline\n",
    "import matplotlib.pyplot as plt\n",
    "\n",
    "from sklearn.model_selection import train_test_split\n",
    "from sklearn.linear_model import LogisticRegression\n",
    "from sklearn.metrics import confusion_matrix"
   ],
   "metadata": {
    "collapsed": false,
    "pycharm": {
     "name": "#%%\n"
    }
   }
  },
  {
   "cell_type": "code",
   "execution_count": 15,
   "outputs": [],
   "source": [
    "churn_data = pd.read_csv(\"../resources/ChurnData.csv\")\n",
    "churn_data['churn'] = churn_data['churn'].astype('int')\n",
    "\n",
    "x = churn_data[['tenure', 'age', 'address', 'income', 'ed', 'employ', 'equip']]\n",
    "y = churn_data[['churn']]\n",
    "\n",
    "x_train, x_test, y_train, y_test = train_test_split(x, y, test_size=0.2, random_state=1337)"
   ],
   "metadata": {
    "collapsed": false,
    "pycharm": {
     "name": "#%%\n"
    }
   }
  },
  {
   "cell_type": "code",
   "execution_count": 20,
   "outputs": [
    {
     "name": "stderr",
     "output_type": "stream",
     "text": [
      "/Users/klepovaleks/miniconda3/envs/ml-ibm/lib/python3.9/site-packages/sklearn/utils/validation.py:993: DataConversionWarning: A column-vector y was passed when a 1d array was expected. Please change the shape of y to (n_samples, ), for example using ravel().\n",
      "  y = column_or_1d(y, warn=True)\n"
     ]
    }
   ],
   "source": [
    "# C parameter indicates regularization strength which must be a positive float, smaller values mean stronger regularization\n",
    "lr = LogisticRegression(C=0.01, solver='liblinear').fit(x_train, y_train)\n",
    "\n",
    "y_hat = lr.predict(x_test)\n",
    "# returns estimates for all classes, ordered by the label of classes. So, the first column is the probability of class 0, second -1\n",
    "y_proba = lr.predict_proba(x_test)"
   ],
   "metadata": {
    "collapsed": false,
    "pycharm": {
     "name": "#%%\n"
    }
   }
  },
  {
   "cell_type": "code",
   "execution_count": null,
   "outputs": [],
   "source": [],
   "metadata": {
    "collapsed": false,
    "pycharm": {
     "name": "#%%\n"
    }
   }
  }
 ],
 "metadata": {
  "kernelspec": {
   "display_name": "Python 3",
   "language": "python",
   "name": "python3"
  },
  "language_info": {
   "codemirror_mode": {
    "name": "ipython",
    "version": 2
   },
   "file_extension": ".py",
   "mimetype": "text/x-python",
   "name": "python",
   "nbconvert_exporter": "python",
   "pygments_lexer": "ipython2",
   "version": "2.7.6"
  }
 },
 "nbformat": 4,
 "nbformat_minor": 0
}