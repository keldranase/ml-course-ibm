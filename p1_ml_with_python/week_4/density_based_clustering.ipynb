{
 "cells": [
  {
   "cell_type": "markdown",
   "source": [
    "# Density-based Clustering\n",
    "\n",
    "### Comparison with k-means\n",
    "- Can detect clusters of arbitrary shape (not only spherical ones)\n",
    "- Separates outliers (k-means not only assigns :\n",
    "![](density_based_clustering/density_based_clustering_0.png)\n"
   ],
   "metadata": {
    "collapsed": false,
    "pycharm": {
     "name": "#%% md\n"
    }
   }
  },
  {
   "cell_type": "markdown",
   "source": [
    "# DBSCAN Clustering Algorithm\n",
    "- Density Based Spatial Clustering of Applications with Noise\n",
    "- Useful for class identification\n",
    "- Can find clusters of arbitrary shape, isn't affected by noise\n",
    "\n",
    "#### Algorithm uses two parameters\n",
    "![](density_based_clustering/density_based_clustering_1.png)"
   ],
   "metadata": {
    "collapsed": false,
    "pycharm": {
     "name": "#%% md\n"
    }
   }
  },
  {
   "cell_type": "markdown",
   "source": [
    "## Algorithm:\n",
    "Given set of points:\n",
    "1. Classify each point as\n",
    "   - Core point - has > __M__ points in the __R__\n",
    "   - Border point - has < __M__ points, but at least core point in the __R__\n",
    "   - Outlier - has < __M__ points and no core points in the __R__\n",
    "2. Connect neighbor core points, to form clusters\n",
    "\n",
    "![](density_based_clustering/density_based_clustering_3.png)"
   ],
   "metadata": {
    "collapsed": false,
    "pycharm": {
     "name": "#%% md\n"
    }
   }
  }
 ],
 "metadata": {
  "kernelspec": {
   "display_name": "Python 3",
   "language": "python",
   "name": "python3"
  },
  "language_info": {
   "codemirror_mode": {
    "name": "ipython",
    "version": 2
   },
   "file_extension": ".py",
   "mimetype": "text/x-python",
   "name": "python",
   "nbconvert_exporter": "python",
   "pygments_lexer": "ipython2",
   "version": "2.7.6"
  }
 },
 "nbformat": 4,
 "nbformat_minor": 0
}