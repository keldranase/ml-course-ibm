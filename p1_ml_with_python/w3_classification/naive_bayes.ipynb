{
 "cells": [
  {
   "cell_type": "markdown",
   "source": [
    "# Naive Bayes\n",
    "(not included in the course, just for myself)\n",
    "\n",
    "Called as such, bc does not account for placement of features, in relation to each other (e.g. word order)\n",
    "\n",
    "### Multinomial Naive Bayes\n",
    "On the example of classifying mail like spam or normal:\n",
    "1. For each feature in each class the **likelihood** is calculated, dividing number of time feature occurred by amount of time all features have occurred in the class\n",
    "![](naive-bayes/naive-bayes.png)\n",
    "![](naive-bayes/1-naive-bayes.png)\n",
    "2. To find, to where does given email belong, probabilities calculated for both classes, by multiplying probability of each element (word in email) by **prior probability**, that is obtained by dividing number of occurrences for given class in training set by the amount of all elements in it:\n",
    "![](naive-bayes/2-naive-bayes.png)\n",
    "![](naive-bayes/3-naive-bayes.png)\n",
    "3. Probability of input belonging to each class can be found from obtained probabilities\n",
    "\n",
    "If feature has no occurrences in training set for given class, then its probability is 0, and probability of any input, containing it will be also 0\n",
    "To prevent this problem, 1 count could be added to each feature, making impossible for any probability to become 0\n",
    "1. ![](naive-bayes/4-naive-bayes.png)\n",
    "\n",
    "# Applications\n",
    "- Credit Scoring.\n",
    "- medical data classification.\n",
    "- real-time predictions because Naive Bayes Classifier is an eager learner.\n",
    "- ext classification such as Spam filtering and Sentiment analysis"
   ],
   "metadata": {
    "collapsed": false,
    "pycharm": {
     "name": "#%% md\n"
    }
   }
  },
  {
   "cell_type": "code",
   "execution_count": null,
   "outputs": [],
   "source": [
    "from sklearn.datasets import load_iris\n",
    "from sklearn.datasets import load_iris\n",
    "from sklearn.model_selection import train_test_split\n",
    "from sklearn.naive_bayes import CategoricalNB, ComplementNB, BernoulliNB, GaussianNB, MultinomialNB"
   ],
   "metadata": {
    "collapsed": false,
    "pycharm": {
     "name": "#%%\n"
    }
   }
  },
  {
   "cell_type": "code",
   "execution_count": 8,
   "outputs": [
    {
     "name": "stdout",
     "output_type": "stream",
     "text": [
      "Number of mislabeled points out of a total 75 points : 30\n"
     ]
    }
   ],
   "source": [
    "X, y = load_iris(return_X_y=True)\n",
    "X_train, X_test, y_train, y_test = train_test_split(X, y, test_size=0.5, random_state=0)\n",
    "\n",
    "gnb = MultinomialNB()\n",
    "y_pred = gnb.fit(X_train, y_train).predict(X_test)\n",
    "print(\"Number of mislabeled points out of a total %d points : %d\" % (X_test.shape[0], (y_test != y_pred).sum()))"
   ],
   "metadata": {
    "collapsed": false,
    "pycharm": {
     "name": "#%%\n"
    }
   }
  },
  {
   "cell_type": "code",
   "execution_count": 9,
   "outputs": [
    {
     "name": "stdout",
     "output_type": "stream",
     "text": [
      "CategoricalNB()\n",
      "Number of mislabeled points out of a total 75 points : 7\n",
      "\n",
      "\n",
      "ComplementNB()\n",
      "Number of mislabeled points out of a total 75 points : 30\n",
      "\n",
      "\n",
      "BernoulliNB()\n",
      "Number of mislabeled points out of a total 75 points : 54\n",
      "\n",
      "\n",
      "GaussianNB()\n",
      "Number of mislabeled points out of a total 75 points : 4\n",
      "\n",
      "\n",
      "MultinomialNB()\n",
      "Number of mislabeled points out of a total 75 points : 30\n",
      "\n",
      "\n"
     ]
    }
   ],
   "source": [
    "for nm_impl in [CategoricalNB(), ComplementNB(), BernoulliNB(), GaussianNB(), MultinomialNB()]:\n",
    "    gnb = nm_impl\n",
    "    y_pred = gnb.fit(X_train, y_train).predict(X_test)\n",
    "    print(nm_impl)\n",
    "    print(\"Number of mislabeled points out of a total %d points : %d\" % (X_test.shape[0], (y_test != y_pred).sum()))\n",
    "    print(\"\\n\")"
   ],
   "metadata": {
    "collapsed": false,
    "pycharm": {
     "name": "#%%\n"
    }
   }
  }
 ],
 "metadata": {
  "kernelspec": {
   "display_name": "Python 3",
   "language": "python",
   "name": "python3"
  },
  "language_info": {
   "codemirror_mode": {
    "name": "ipython",
    "version": 2
   },
   "file_extension": ".py",
   "mimetype": "text/x-python",
   "name": "python",
   "nbconvert_exporter": "python",
   "pygments_lexer": "ipython2",
   "version": "2.7.6"
  }
 },
 "nbformat": 4,
 "nbformat_minor": 0
}