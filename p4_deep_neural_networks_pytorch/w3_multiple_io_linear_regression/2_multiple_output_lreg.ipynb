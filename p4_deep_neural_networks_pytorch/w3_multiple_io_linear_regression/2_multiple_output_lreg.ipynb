{
 "cells": [
  {
   "cell_type": "markdown",
   "source": [
    "# Linear Regression Multiple Outputs\n",
    "\n",
    "#### On Example of Single Input\n",
    "\n",
    "- __problem__:\n",
    "    - given features and array of sets of corresponding weights, find array of \"results\", where each result correspond to set of weights\n",
    "\n",
    "- x is a vector, each element is a feature\n",
    "- y is a vector, where each element is a result of some-kind of operation on x\n",
    "- w: matrix, where elements in row - weights, corresponding to elements of x, and columns - sets of params, for equations to y\n",
    "- b: vector, where each element is different parameter for equation to y\n",
    "\n",
    "##### Real-life Application:\n",
    "- each set of weights - neuron\n",
    "\n",
    "\n",
    "![](multiple_output_lreg/multiple_output_lreg_0.png)\n",
    "![](multiple_output_lreg/multiple_output_lreg_1.png)\n"
   ],
   "metadata": {
    "collapsed": false,
    "pycharm": {
     "name": "#%% md\n"
    }
   },
   "outputs": []
  },
  {
   "cell_type": "markdown",
   "source": [
    "\n",
    "###3 On example of multiple inputs\n",
    "- __problem__:\n",
    "    - given array of feature sets\n",
    "    - and array of sets of feature weights\n",
    "    - find matrix, where each row corresponds to feature set\n",
    "    - and each element in the row corresponds to weight set\n",
    "- matrix product\n",
    "- x: matrix, each row - singular input, column - feature\n",
    "- y: matrix, row - input row, column - y-param output\n",
    "- w: matrix, each column - set of params for output-equation, row (element in col) - set of feature-weights\n",
    "- b: vector, each element\n",
    "\n",
    "```\n",
    "[1,2,3,4] * [a,b,c] = [w,x,u] <- each row is set of results for given input row\n",
    "[4,5,6,7]   [c,d,e]   [y,z,j]\n",
    "^           [e,f,g]      ^ elements are results for corrseponding set of parameters\n",
    "|           [l,m,n]\n",
    "|            ^\n",
    "|            |\n",
    "|            each row is set of params for y-output-equation, each element - feature-weight\n",
    "|\n",
    "each row is input, element - feature\n",
    "```\n",
    "\n",
    "![](multiple_output_lreg/multiple_output_lreg_2.png)"
   ],
   "metadata": {
    "collapsed": false,
    "pycharm": {
     "name": "#%% md\n"
    }
   }
  }
 ],
 "metadata": {
  "kernelspec": {
   "display_name": "Python 3",
   "language": "python",
   "name": "python3"
  },
  "language_info": {
   "codemirror_mode": {
    "name": "ipython",
    "version": 2
   },
   "file_extension": ".py",
   "mimetype": "text/x-python",
   "name": "python",
   "nbconvert_exporter": "python",
   "pygments_lexer": "ipython2",
   "version": "2.7.6"
  }
 },
 "nbformat": 4,
 "nbformat_minor": 0
}