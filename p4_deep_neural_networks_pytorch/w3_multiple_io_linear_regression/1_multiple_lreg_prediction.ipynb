{
 "cells": [
  {
   "cell_type": "markdown",
   "source": [
    "# Multiple Linear Regression\n",
    "\n",
    "## Prediction\n",
    "\n",
    "#### For single input:\n",
    "- __problem__:\n",
    "    - given set of features and corresponding weights, and bias, find the \"result\"\n",
    "- y_hat = b + aX1 + bX2\n",
    "- Estimate numeric value of y_hat, given Dx1 vector of features X, and 1xD vector of features W\n",
    "```\n",
    "[9\n",
    " 8]  x [1,2] = 9 + 16 = 25\n",
    " ```\n",
    "- in this example vector of features, __x__, is placed vertically only for the ease of understanding. It doesn't matter really, for next example, inputs of __x__ are placed horizontally\n",
    "\n",
    "\n",
    "#### For multiple inputs (dataset)\n",
    "\n",
    "- __problem__:\n",
    "    - given array of sets of features with corresponding weights and bias, find array of corresponding \"results\"\n",
    "- given equation: y_hat = b + aX1 + bX2, on the pic 1\n",
    "- X is a matrix of inputs: each row - is an input (set of features (X1 = 5, X2 = 7)) (pic 2)\n",
    "- w is a vector, same length as number of features, so each weight corresponds to each feature (a -> X1, b -> X2)\n",
    "- b is a number\n",
    "- y_hat is a vector, same length as number of inputs, cause each input produces separate result\n",
    "- y_hat = dot product of row of __x__ and __w__, plus bias __b__\n"
   ],
   "metadata": {
    "collapsed": false,
    "pycharm": {
     "name": "#%% md\n"
    }
   }
  },
  {
   "cell_type": "markdown",
   "source": [
    "![](multiple_lreg_prediction/multiple_lreg_prediction.png)\n",
    "- pic 1\n",
    "![](multiple_lreg_prediction/multiple_lreg_prediction_12.png)\n",
    "- pic 2"
   ],
   "metadata": {
    "collapsed": false,
    "pycharm": {
     "name": "#%% md\n"
    }
   }
  }
 ],
 "metadata": {
  "kernelspec": {
   "display_name": "Python 3",
   "language": "python",
   "name": "python3"
  },
  "language_info": {
   "codemirror_mode": {
    "name": "ipython",
    "version": 2
   },
   "file_extension": ".py",
   "mimetype": "text/x-python",
   "name": "python",
   "nbconvert_exporter": "python",
   "pygments_lexer": "ipython2",
   "version": "2.7.6"
  }
 },
 "nbformat": 4,
 "nbformat_minor": 0
}