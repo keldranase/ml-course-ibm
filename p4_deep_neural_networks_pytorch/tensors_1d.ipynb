{
 "cells": [
  {
   "cell_type": "markdown",
   "source": [
    "# Overview of Tensors\n",
    "- A pytorch tensor is a data structure, that is a generalization for numbers and dimensional arrays in Python\n",
    "- For the NN the input is a tensor, output is tensor as well, and network will be comprised of a set of parameters, which are also tensors\n",
    "- To produce an output, NN will apply a series of tensor operations on the input data\n",
    "- Many of these tensor operations are generalization"
   ],
   "metadata": {
    "collapsed": false,
    "pycharm": {
     "name": "#%% md\n"
    }
   }
  },
  {
   "cell_type": "markdown",
   "source": [
    "# Tensors 1D"
   ],
   "metadata": {
    "collapsed": false,
    "pycharm": {
     "name": "#%% md\n"
    }
   }
  },
  {
   "cell_type": "code",
   "execution_count": null,
   "outputs": [],
   "source": [
    "import torch\n",
    "from utils import resource_utils\n",
    "\n",
    "# 2 0\n",
    "# 1 2"
   ],
   "metadata": {
    "collapsed": false,
    "pycharm": {
     "name": "#%%\n"
    }
   }
  }
 ],
 "metadata": {
  "kernelspec": {
   "display_name": "Python 3",
   "language": "python",
   "name": "python3"
  },
  "language_info": {
   "codemirror_mode": {
    "name": "ipython",
    "version": 2
   },
   "file_extension": ".py",
   "mimetype": "text/x-python",
   "name": "python",
   "nbconvert_exporter": "python",
   "pygments_lexer": "ipython2",
   "version": "2.7.6"
  }
 },
 "nbformat": 4,
 "nbformat_minor": 0
}