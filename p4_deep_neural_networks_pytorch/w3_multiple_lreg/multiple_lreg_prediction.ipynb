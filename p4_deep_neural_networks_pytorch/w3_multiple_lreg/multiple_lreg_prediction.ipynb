{
 "cells": [
  {
   "cell_type": "markdown",
   "source": [
    "# Multiple Linear Regression\n",
    "\n",
    "## Prediction\n",
    "\n",
    "#### On example of one input\n",
    "y_hat = x*w + b\n",
    "\n",
    "- y_hat and b are numbers, where x and w are vectors, where each element of x is set of features, and w set of corresponding weights\n",
    "- dot product of x and w is calculated firstly, then bias is added\n",
    "\n",
    "#### On example of multiple inputs (dataset)\n",
    "- in this case regression is a linear transformation\n",
    "- x is matrix, where columns are features (as in first example), and rows are separate inputs\n",
    "- b is a scalar, same for each input row of x\n",
    "- w is a vector, with same correspondence to features of x as in one-input-example\n",
    "- y is a vector, with amount of rows = amount of rows of x\n",
    "![](multiple_lreg_prediction/multiple_lreg_prediction.png)"
   ],
   "metadata": {
    "collapsed": false,
    "pycharm": {
     "name": "#%% md\n"
    }
   }
  },
  {
   "cell_type": "markdown",
   "source": [
    "## Training\n"
   ],
   "metadata": {
    "collapsed": false,
    "pycharm": {
     "name": "#%% md\n"
    }
   }
  },
  {
   "cell_type": "code",
   "execution_count": null,
   "outputs": [],
   "source": [],
   "metadata": {
    "collapsed": false,
    "pycharm": {
     "name": "#%%\n"
    }
   }
  }
 ],
 "metadata": {
  "kernelspec": {
   "display_name": "Python 3",
   "language": "python",
   "name": "python3"
  },
  "language_info": {
   "codemirror_mode": {
    "name": "ipython",
    "version": 2
   },
   "file_extension": ".py",
   "mimetype": "text/x-python",
   "name": "python",
   "nbconvert_exporter": "python",
   "pygments_lexer": "ipython2",
   "version": "2.7.6"
  }
 },
 "nbformat": 4,
 "nbformat_minor": 0
}