{
 "cells": [
  {
   "cell_type": "markdown",
   "source": [
    "# Linear Regression Multiple Outputs\n",
    "\n",
    "### On Example of Single Input\n",
    "- x is a vector, each element is a feature\n",
    "- y is a vector, where each element is a result of some-kind of operation on x\n",
    "- w: matrix, where elements in row - weights, corresponding to elements of x, and columns - sets of params, for equations to y\n",
    "- b: vector, where each element is different parameter for equation to y\n",
    "\n",
    "![](multiple_output_lreg/multiple_output_lreg_0.png)\n",
    "![](multiple_output_lreg/multiple_output_lreg_1.png)\n",
    "\n",
    "\n",
    "### On example of multiple inputs\n",
    "- matrix product\n",
    "- x: matrix, each row - singular input, column - feature\n",
    "- y: matrix, row - input row, column - y-param output\n",
    "- w: matrix, each column - set of params for output-equation, row (element in col) - set of feature-weights\n",
    "- b: vector, each element\n",
    "\n",
    "```\n",
    "[1,2,3,4] * [a,b,c] = [w,x,u] <- each row is input row\n",
    "[4,5,6,7]   [c,d,e]   [y,z,j]\n",
    "^           [e,f,g]      ^ each column is y-parameter result\n",
    "|           [l,m,n]\n",
    "|            ^\n",
    "|            |\n",
    "|            each row is set of params for y-output-equation, each element - feature-weight\n",
    "|\n",
    "each row is input, element - feature\n",
    "```\n",
    "\n",
    "![](multiple_output_lreg/multiple_output_lreg_2.png)"
   ],
   "metadata": {
    "collapsed": false,
    "pycharm": {
     "name": "#%% md\n"
    }
   }
  },
  {
   "cell_type": "markdown",
   "source": [
    "# Practice"
   ],
   "metadata": {
    "collapsed": false,
    "pycharm": {
     "name": "#%% md\n"
    }
   }
  },
  {
   "cell_type": "code",
   "execution_count": 5,
   "outputs": [],
   "source": [
    "import torch\n",
    "from torch.nn import Linear\n",
    "\n"
   ],
   "metadata": {
    "collapsed": false,
    "pycharm": {
     "name": "#%%\n"
    }
   }
  },
  {
   "cell_type": "code",
   "execution_count": 10,
   "outputs": [],
   "source": [
    "model = Linear(4,3)\n"
   ],
   "metadata": {
    "collapsed": false,
    "pycharm": {
     "name": "#%%\n"
    }
   }
  },
  {
   "cell_type": "code",
   "execution_count": 13,
   "outputs": [
    {
     "data": {
      "text/plain": "tensor([[-0.3360, -0.4817, -0.3727],\n        [-0.2507,  0.3379, -0.7923]], grad_fn=<AddmmBackward0>)"
     },
     "execution_count": 13,
     "metadata": {},
     "output_type": "execute_result"
    }
   ],
   "source": [
    "x = torch.arange(-1, 1, 0.25).view(2,4)\n",
    "y_hat = model(x)\n",
    "\n",
    "y_hat"
   ],
   "metadata": {
    "collapsed": false,
    "pycharm": {
     "name": "#%%\n"
    }
   }
  },
  {
   "cell_type": "code",
   "execution_count": null,
   "outputs": [],
   "source": [],
   "metadata": {
    "collapsed": false,
    "pycharm": {
     "name": "#%%\n"
    }
   }
  }
 ],
 "metadata": {
  "kernelspec": {
   "display_name": "Python 3",
   "language": "python",
   "name": "python3"
  },
  "language_info": {
   "codemirror_mode": {
    "name": "ipython",
    "version": 2
   },
   "file_extension": ".py",
   "mimetype": "text/x-python",
   "name": "python",
   "nbconvert_exporter": "python",
   "pygments_lexer": "ipython2",
   "version": "2.7.6"
  }
 },
 "nbformat": 4,
 "nbformat_minor": 0
}