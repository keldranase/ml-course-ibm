{
 "cells": [
  {
   "cell_type": "code",
   "execution_count": 9,
   "outputs": [],
   "source": [
    "# import torch.nn as nn\n",
    "from torch import nn\n",
    "import torch\n",
    "\n",
    "class LR(nn.Module):\n",
    "    def __init__(self, in_size, out_size):\n",
    "        super(LR, self).__init__()\n",
    "        self.linear = nn.Linear(in_size, out_size)\n",
    "\n",
    "    def forward(self, x):\n",
    "        return self.linear(x)"
   ],
   "metadata": {
    "collapsed": false,
    "pycharm": {
     "name": "#%%\n"
    }
   }
  },
  {
   "cell_type": "code",
   "execution_count": 16,
   "outputs": [
    {
     "name": "stdout",
     "output_type": "stream",
     "text": [
      "[Parameter containing:\n",
      "tensor([[ 0.4021, -0.0383],\n",
      "        [-0.4022,  0.0914]], requires_grad=True), Parameter containing:\n",
      "tensor([-0.1683, -0.6257], requires_grad=True)]\n"
     ]
    }
   ],
   "source": [
    "model = LR(2,2)\n",
    "print(list(model.parameters()))"
   ],
   "metadata": {
    "collapsed": false,
    "pycharm": {
     "name": "#%%\n"
    }
   }
  },
  {
   "cell_type": "code",
   "execution_count": 17,
   "outputs": [
    {
     "data": {
      "text/plain": "tensor([ 0.3486, -1.3022], grad_fn=<AddBackward0>)"
     },
     "execution_count": 17,
     "metadata": {},
     "output_type": "execute_result"
    }
   ],
   "source": [
    "x = torch.tensor([1.0, -3.0])\n",
    "y_hat = model(x)\n",
    "\n",
    "y_hat"
   ],
   "metadata": {
    "collapsed": false,
    "pycharm": {
     "name": "#%%\n"
    }
   }
  },
  {
   "cell_type": "code",
   "execution_count": 29,
   "outputs": [
    {
     "data": {
      "text/plain": "tensor([[-0.7477],\n        [ 0.0429]], grad_fn=<AddmmBackward0>)"
     },
     "execution_count": 29,
     "metadata": {},
     "output_type": "execute_result"
    }
   ],
   "source": [
    "model2 = nn.Linear(1,1)\n",
    "y_hat2 = model2.forward(torch.tensor([[5.9],[2.3]]))\n",
    "y_hat2"
   ],
   "metadata": {
    "collapsed": false,
    "pycharm": {
     "name": "#%%\n"
    }
   }
  },
  {
   "cell_type": "code",
   "execution_count": 38,
   "outputs": [
    {
     "ename": "NameError",
     "evalue": "name 'model2' is not defined",
     "output_type": "error",
     "traceback": [
      "\u001B[0;31m---------------------------------------------------------------------------\u001B[0m",
      "\u001B[0;31mNameError\u001B[0m                                 Traceback (most recent call last)",
      "Input \u001B[0;32mIn [38]\u001B[0m, in \u001B[0;36m<cell line: 1>\u001B[0;34m()\u001B[0m\n\u001B[0;32m----> 1\u001B[0m \u001B[43mmodel2\u001B[49m\u001B[38;5;241m.\u001B[39mstate_dict()\n",
      "\u001B[0;31mNameError\u001B[0m: name 'model2' is not defined"
     ]
    }
   ],
   "source": [
    "model2.state_dict()"
   ],
   "metadata": {
    "collapsed": false,
    "pycharm": {
     "name": "#%%\n"
    }
   }
  },
  {
   "cell_type": "code",
   "execution_count": 8,
   "outputs": [
    {
     "name": "stdout",
     "output_type": "stream",
     "text": [
      "Nothing done.\n"
     ]
    }
   ],
   "source": [
    "%reset"
   ],
   "metadata": {
    "collapsed": false,
    "pycharm": {
     "name": "#%%\n"
    }
   }
  },
  {
   "cell_type": "markdown",
   "source": [
    "## Gradient descent with pytorch"
   ],
   "metadata": {
    "collapsed": false,
    "pycharm": {
     "name": "#%% md\n"
    }
   }
  },
  {
   "cell_type": "code",
   "execution_count": 31,
   "outputs": [
    {
     "name": "stdout",
     "output_type": "stream",
     "text": [
      "-1. w: -10.0\n"
     ]
    },
    {
     "data": {
      "text/plain": "[<matplotlib.lines.Line2D at 0x7fb188fbad30>]"
     },
     "execution_count": 31,
     "metadata": {},
     "output_type": "execute_result"
    },
    {
     "data": {
      "text/plain": "<Figure size 432x288 with 2 Axes>",
      "image/png": "[encoded data removed]"
     },
     "metadata": {
      "needs_background": "light"
     },
     "output_type": "display_data"
    }
   ],
   "source": [
    "import torch\n",
    "import matplotlib.pyplot as plt\n",
    "\n",
    "w = torch.tensor(-10.0, requires_grad=True) # weight, bc requires_grad=True, torch wd be able to change it\n",
    "print(\"-1. w: {}\".format(w))\n",
    "x = torch.arange(-3,3,0.1).view(-1,1) # init x range\n",
    "f = -3 * x # function\n",
    "\n",
    "y = f + 0.25 * torch.randn(x.size()) # add some noise\n",
    "\n",
    "fig, (ax1, ax2) = plt.subplots(1, 2)\n",
    "ax1.plot(x.numpy(), f.numpy())\n",
    "ax2.plot(x.numpy(), y.numpy(), 'ro')"
   ],
   "metadata": {
    "collapsed": false,
    "pycharm": {
     "name": "#%%\n"
    }
   }
  },
  {
   "cell_type": "code",
   "execution_count": 32,
   "outputs": [
    {
     "data": {
      "text/plain": "{-9.0: 147.36265563964844,\n -8.100000381469727: 108.30998992919922,\n -7.2900004386901855: 78.29544067382812,\n -6.561000347137451: 55.439945220947266,\n -5.904900550842285: 38.2376594543457,\n -5.31441068649292: 25.483417510986328,\n -4.7829694747924805: 16.214115142822266,\n -4.304672718048096: 9.661455154418945,\n -3.8742053508758545: 5.213733196258545,\n -3.4867849349975586: 2.3850131034851074,\n -3.138106346130371: 0.7902935743331909,\n -2.82429575920105: 0.12545879185199738,\n -2.5418663024902344: 0.1511426568031311,\n -2.287679672241211: 0.6797260642051697,\n -2.0589118003845215: 1.5648804903030396,\n -1.8530206680297852: 2.6931569576263428,\n -1.6677186489105225: 3.9772324562072754,\n -1.5009467601776123: 5.35048770904541,\n -1.350852131843567: 6.7626633644104,\n -1.2157669067382812: 8.176380157470703,\n -1.094190239906311: 9.564361572265625,\n -0.984771192073822: 10.907208442687988,\n -0.8862940669059753: 12.191638946533203,\n -0.7976646423339844: 13.409078598022461,\n -0.7178981900215149: 14.554553985595703,\n -0.6461083889007568: 15.625799179077148,\n -0.5814975500106812: 16.62257957458496,\n -0.523347795009613: 17.54613494873047,\n -0.47101300954818726: 18.398761749267578,\n -0.4239117205142975: 19.183483123779297,\n -0.381520539522171: 19.90378761291504,\n -0.3433684706687927: 20.563453674316406,\n -0.3090316355228424: 21.1663761138916,\n -0.2781284749507904: 21.716474533081055,\n -0.2503156363964081: 22.21761703491211,\n -0.22528406977653503: 22.673545837402344,\n -0.2027556598186493: 23.087852478027344,\n -0.1824800968170166: 23.463947296142578,\n -0.16423209011554718: 23.805034637451172,\n -0.14780887961387634: 24.114126205444336,\n -0.13302798569202423: 24.39401626586914,\n -0.11972519010305405: 24.647300720214844,\n -0.10775267332792282: 24.87637710571289,\n -0.09697740525007248: 25.083457946777344,\n -0.08727966248989105: 25.27056312561035,\n -0.07855169475078583: 25.439556121826172,\n -0.07069652527570724: 25.592130661010742,\n -0.06362687051296234: 25.72983741760254,\n -0.05726418271660805: 25.854095458984375,\n -0.05153776332736015: 25.9661808013916}"
     },
     "execution_count": 32,
     "metadata": {},
     "output_type": "execute_result"
    }
   ],
   "source": [
    "def forward(x):\n",
    "    return x * w\n",
    "\n",
    "def find_cost(y_hat, y):\n",
    "    return torch.mean((y_hat - y) ** 2)\n",
    "\n",
    "learning_rate = 0.1\n",
    "\n",
    "weight_to_loss = {}\n",
    "for epoch in range(50):\n",
    "    y_hat = forward(x)\n",
    "    cost = find_cost(y_hat, y)\n",
    "    cost.backward() # derivative, in respect to all variables in cost function\n",
    "    # w.grad # derivative at point\n",
    "\n",
    "    w.data = w.data - learning_rate * w.data # move pint in the gradient\n",
    "    w.grad.data.zero_()\n",
    "    weight_to_loss[w.item()] = cost.item()\n",
    "\n",
    "weight_to_loss"
   ],
   "metadata": {
    "collapsed": false,
    "pycharm": {
     "name": "#%%\n"
    }
   }
  },
  {
   "cell_type": "code",
   "execution_count": 33,
   "outputs": [
    {
     "data": {
      "text/plain": "<Figure size 432x288 with 1 Axes>",
      "image/png": "[encoded data removed]"
     },
     "metadata": {
      "needs_background": "light"
     },
     "output_type": "display_data"
    }
   ],
   "source": [
    "plt.plot(weight_to_loss.keys(), weight_to_loss.values())\n",
    "plt.show()"
   ],
   "metadata": {
    "collapsed": false,
    "pycharm": {
     "name": "#%%\n"
    }
   }
  },
  {
   "cell_type": "code",
   "execution_count": null,
   "outputs": [],
   "source": [],
   "metadata": {
    "collapsed": false,
    "pycharm": {
     "name": "#%%\n"
    }
   }
  }
 ],
 "metadata": {
  "kernelspec": {
   "display_name": "Python 3",
   "language": "python",
   "name": "python3"
  },
  "language_info": {
   "codemirror_mode": {
    "name": "ipython",
    "version": 2
   },
   "file_extension": ".py",
   "mimetype": "text/x-python",
   "name": "python",
   "nbconvert_exporter": "python",
   "pygments_lexer": "ipython2",
   "version": "2.7.6"
  }
 },
 "nbformat": 4,
 "nbformat_minor": 0
}