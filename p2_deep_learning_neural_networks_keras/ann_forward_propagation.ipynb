{
 "cells": [
  {
   "cell_type": "markdown",
   "source": [
    "# Artificial Neural Networks - Forward Propagation\n",
    "\n",
    "![](ann_forward_propagation/ann_forward_propagation_0.png)\n",
    "Each artificial neuron consists of:\n",
    "1. Inputs from previous neurons (x1, x2)\n",
    "2. and corresponding weights (w1, w2)\n",
    "3. Body of neuron, which performs __linear combination__ of inputs and weights, along with the __bias b1__\n",
    "\n",
    "z - linear combination of inputs\n",
    "a - output of neuron\n",
    "\n",
    "Plain number-output would limit functionality, so usually it passed through sigmoid function, that transforms\n",
    "1. __very large positive number to number close to 1__\n",
    "and\n",
    "2. __very large negative to number close to 0__"
   ],
   "metadata": {
    "collapsed": false,
    "pycharm": {
     "name": "#%% md\n"
    }
   }
  },
  {
   "cell_type": "markdown",
   "source": [
    "#### Activation functions\n",
    "Decide, whether neuron should be activated or not.\n",
    "\n",
    "__NN without activation function is just a linear regression model, bc AF performs non-linear transformation, enabling NN of learning and performing more complex human-like tasks__"
   ],
   "metadata": {
    "collapsed": false,
    "pycharm": {
     "name": "#%% md\n"
    }
   }
  },
  {
   "cell_type": "markdown",
   "source": [
    "#### Example of Forward Propagation\n",
    "Inputs pass forward, going through combination functions, in a way, that output of first neuron is the input of second\n",
    "![](ann_forward_propagation/ann_forward_propagation_1.png)"
   ],
   "metadata": {
    "collapsed": false,
    "pycharm": {
     "name": "#%% md\n"
    }
   }
  },
  {
   "cell_type": "markdown",
   "source": [
    "Another scheme of nn\n",
    "![](ann_forward_propagation/ann_forward_propagation_2.png)"
   ],
   "metadata": {
    "collapsed": false,
    "pycharm": {
     "name": "#%% md\n"
    }
   }
  }
 ],
 "metadata": {
  "kernelspec": {
   "display_name": "Python 3",
   "language": "python",
   "name": "python3"
  },
  "language_info": {
   "codemirror_mode": {
    "name": "ipython",
    "version": 2
   },
   "file_extension": ".py",
   "mimetype": "text/x-python",
   "name": "python",
   "nbconvert_exporter": "python",
   "pygments_lexer": "ipython2",
   "version": "2.7.6"
  }
 },
 "nbformat": 4,
 "nbformat_minor": 0
}